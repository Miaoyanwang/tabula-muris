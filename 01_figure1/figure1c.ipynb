{
 "cells": [
  {
   "cell_type": "code",
   "execution_count": 19,
   "metadata": {},
   "outputs": [
    {
     "name": "stdout",
     "output_type": "stream",
     "text": [
      "(54837, 5)\n"
     ]
    },
    {
     "data": {
      "text/html": [
       "<div>\n",
       "<style scoped>\n",
       "    .dataframe tbody tr th:only-of-type {\n",
       "        vertical-align: middle;\n",
       "    }\n",
       "\n",
       "    .dataframe tbody tr th {\n",
       "        vertical-align: top;\n",
       "    }\n",
       "\n",
       "    .dataframe thead th {\n",
       "        text-align: right;\n",
       "    }\n",
       "</style>\n",
       "<table border=\"1\" class=\"dataframe\">\n",
       "  <thead>\n",
       "    <tr style=\"text-align: right;\">\n",
       "      <th></th>\n",
       "      <th>cell</th>\n",
       "      <th>tissue</th>\n",
       "      <th>cell_ontology_class</th>\n",
       "      <th>cell_ontology_term_iri</th>\n",
       "      <th>cell_ontology_id</th>\n",
       "    </tr>\n",
       "  </thead>\n",
       "  <tbody>\n",
       "    <tr>\n",
       "      <th>0</th>\n",
       "      <td>10X_P4_3_AAAGTAGAGATGCCAG</td>\n",
       "      <td>Bladder</td>\n",
       "      <td>mesenchymal cell</td>\n",
       "      <td>http://purl.obolibrary.org/obo/CL_0008019</td>\n",
       "      <td>CL:0008019</td>\n",
       "    </tr>\n",
       "    <tr>\n",
       "      <th>1</th>\n",
       "      <td>10X_P4_3_AACCGCGTCCAACCAA</td>\n",
       "      <td>Bladder</td>\n",
       "      <td>mesenchymal cell</td>\n",
       "      <td>http://purl.obolibrary.org/obo/CL_0008019</td>\n",
       "      <td>CL:0008019</td>\n",
       "    </tr>\n",
       "    <tr>\n",
       "      <th>2</th>\n",
       "      <td>10X_P4_3_AACTCCCGTCGGGTCT</td>\n",
       "      <td>Bladder</td>\n",
       "      <td>mesenchymal cell</td>\n",
       "      <td>http://purl.obolibrary.org/obo/CL_0008019</td>\n",
       "      <td>CL:0008019</td>\n",
       "    </tr>\n",
       "    <tr>\n",
       "      <th>3</th>\n",
       "      <td>10X_P4_3_AACTCTTAGTTGCAGG</td>\n",
       "      <td>Bladder</td>\n",
       "      <td>bladder cell</td>\n",
       "      <td>http://purl.obolibrary.org/obo/CL_1001319</td>\n",
       "      <td>CL:1001319</td>\n",
       "    </tr>\n",
       "    <tr>\n",
       "      <th>4</th>\n",
       "      <td>10X_P4_3_AACTCTTTCATAACCG</td>\n",
       "      <td>Bladder</td>\n",
       "      <td>mesenchymal cell</td>\n",
       "      <td>http://purl.obolibrary.org/obo/CL_0008019</td>\n",
       "      <td>CL:0008019</td>\n",
       "    </tr>\n",
       "  </tbody>\n",
       "</table>\n",
       "</div>"
      ],
      "text/plain": [
       "                        cell   tissue cell_ontology_class  \\\n",
       "0  10X_P4_3_AAAGTAGAGATGCCAG  Bladder    mesenchymal cell   \n",
       "1  10X_P4_3_AACCGCGTCCAACCAA  Bladder    mesenchymal cell   \n",
       "2  10X_P4_3_AACTCCCGTCGGGTCT  Bladder    mesenchymal cell   \n",
       "3  10X_P4_3_AACTCTTAGTTGCAGG  Bladder        bladder cell   \n",
       "4  10X_P4_3_AACTCTTTCATAACCG  Bladder    mesenchymal cell   \n",
       "\n",
       "                      cell_ontology_term_iri cell_ontology_id  \n",
       "0  http://purl.obolibrary.org/obo/CL_0008019       CL:0008019  \n",
       "1  http://purl.obolibrary.org/obo/CL_0008019       CL:0008019  \n",
       "2  http://purl.obolibrary.org/obo/CL_0008019       CL:0008019  \n",
       "3  http://purl.obolibrary.org/obo/CL_1001319       CL:1001319  \n",
       "4  http://purl.obolibrary.org/obo/CL_0008019       CL:0008019  "
      ]
     },
     "execution_count": 19,
     "metadata": {},
     "output_type": "execute_result"
    }
   ],
   "source": [
    "import os\n",
    "import glob\n",
    "\n",
    "import numpy as np\n",
    "import pandas as pd \n",
    "import matplotlib.pyplot as plt\n",
    "import matplotlib\n",
    "import seaborn as sns\n",
    "\n",
    "\n",
    "\n",
    "# Editable text and proper LaTeX fonts in illustrator\n",
    "matplotlib.rcParams['ps.useafm'] = True\n",
    "# matplotlib.rcParams['pdf.use14corefonts'] = True\n",
    "\n",
    "# Editable fonts. 42 is the magic number\n",
    "matplotlib.rcParams['pdf.fonttype'] = 42\n",
    "\n",
    "# Use \"Computer Modern\" (LaTeX font) for math numbers\n",
    "matplotlib.rcParams['mathtext.fontset'] = 'cm'\n",
    "%matplotlib inline\n",
    "\n",
    "sns.set(style='whitegrid', context='paper')\n",
    "\n",
    "\n",
    "data_ingest_folder = os.path.join('..', '00_data_ingest' )\n",
    "folder = os.path.join(data_ingest_folder, '14_ngenes_ncells_droplet')\n",
    "\n",
    "palette_folder = os.path.join(data_ingest_folder, '15_color_palette')\n",
    "\n",
    "cell_annotations_csv = os.path.join(data_ingest_folder, '01_droplet_raw_data', 'annotations_droplet.csv')\n",
    "cell_annotations = pd.read_csv(cell_annotations_csv)\n",
    "print(cell_annotations.shape)\n",
    "cell_annotations.head()"
   ]
  },
  {
   "cell_type": "code",
   "execution_count": 20,
   "metadata": {},
   "outputs": [
    {
     "name": "stdout",
     "output_type": "stream",
     "text": [
      "(28, 4)\n"
     ]
    },
    {
     "data": {
      "text/html": [
       "<div>\n",
       "<style scoped>\n",
       "    .dataframe tbody tr th:only-of-type {\n",
       "        vertical-align: middle;\n",
       "    }\n",
       "\n",
       "    .dataframe tbody tr th {\n",
       "        vertical-align: top;\n",
       "    }\n",
       "\n",
       "    .dataframe thead th {\n",
       "        text-align: right;\n",
       "    }\n",
       "</style>\n",
       "<table border=\"1\" class=\"dataframe\">\n",
       "  <thead>\n",
       "    <tr style=\"text-align: right;\">\n",
       "      <th></th>\n",
       "      <th>mouse.id</th>\n",
       "      <th>tissue</th>\n",
       "      <th>subtissue</th>\n",
       "      <th>mouse.sex</th>\n",
       "    </tr>\n",
       "    <tr>\n",
       "      <th>channel</th>\n",
       "      <th></th>\n",
       "      <th></th>\n",
       "      <th></th>\n",
       "      <th></th>\n",
       "    </tr>\n",
       "  </thead>\n",
       "  <tbody>\n",
       "    <tr>\n",
       "      <th>10X_P4_0</th>\n",
       "      <td>3-M-8</td>\n",
       "      <td>Tongue</td>\n",
       "      <td>NaN</td>\n",
       "      <td>M</td>\n",
       "    </tr>\n",
       "    <tr>\n",
       "      <th>10X_P4_1</th>\n",
       "      <td>3-M-9</td>\n",
       "      <td>Tongue</td>\n",
       "      <td>NaN</td>\n",
       "      <td>M</td>\n",
       "    </tr>\n",
       "    <tr>\n",
       "      <th>10X_P4_2</th>\n",
       "      <td>3-M-8/9</td>\n",
       "      <td>Liver</td>\n",
       "      <td>hepatocytes</td>\n",
       "      <td>M</td>\n",
       "    </tr>\n",
       "    <tr>\n",
       "      <th>10X_P4_3</th>\n",
       "      <td>3-M-8</td>\n",
       "      <td>Bladder</td>\n",
       "      <td>NaN</td>\n",
       "      <td>M</td>\n",
       "    </tr>\n",
       "    <tr>\n",
       "      <th>10X_P4_4</th>\n",
       "      <td>3-M-9</td>\n",
       "      <td>Bladder</td>\n",
       "      <td>NaN</td>\n",
       "      <td>M</td>\n",
       "    </tr>\n",
       "  </tbody>\n",
       "</table>\n",
       "</div>"
      ],
      "text/plain": [
       "         mouse.id   tissue    subtissue mouse.sex\n",
       "channel                                          \n",
       "10X_P4_0    3-M-8   Tongue          NaN         M\n",
       "10X_P4_1    3-M-9   Tongue          NaN         M\n",
       "10X_P4_2  3-M-8/9    Liver  hepatocytes         M\n",
       "10X_P4_3    3-M-8  Bladder          NaN         M\n",
       "10X_P4_4    3-M-9  Bladder          NaN         M"
      ]
     },
     "execution_count": 20,
     "metadata": {},
     "output_type": "execute_result"
    }
   ],
   "source": [
    "csv = os.path.join(data_ingest_folder, '01_droplet_raw_data', 'metadata_droplet.csv')\n",
    "tenx_metadata = pd.read_csv(csv, index_col=0)\n",
    "print(tenx_metadata.shape)\n",
    "tenx_metadata.head()"
   ]
  },
  {
   "cell_type": "code",
   "execution_count": 21,
   "metadata": {},
   "outputs": [
    {
     "name": "stdout",
     "output_type": "stream",
     "text": [
      "(55656, 4)\n",
      "number of tissues:  12\n"
     ]
    },
    {
     "data": {
      "text/html": [
       "<div>\n",
       "<style scoped>\n",
       "    .dataframe tbody tr th:only-of-type {\n",
       "        vertical-align: middle;\n",
       "    }\n",
       "\n",
       "    .dataframe tbody tr th {\n",
       "        vertical-align: top;\n",
       "    }\n",
       "\n",
       "    .dataframe thead th {\n",
       "        text-align: right;\n",
       "    }\n",
       "</style>\n",
       "<table border=\"1\" class=\"dataframe\">\n",
       "  <thead>\n",
       "    <tr style=\"text-align: right;\">\n",
       "      <th></th>\n",
       "      <th>nGene</th>\n",
       "      <th>nUMI</th>\n",
       "      <th>orig.ident</th>\n",
       "      <th>tissue</th>\n",
       "    </tr>\n",
       "  </thead>\n",
       "  <tbody>\n",
       "    <tr>\n",
       "      <th>10X_P4_2_AAACCTGAGCTACCTA</th>\n",
       "      <td>1854</td>\n",
       "      <td>8116</td>\n",
       "      <td>10X</td>\n",
       "      <td>Liver</td>\n",
       "    </tr>\n",
       "    <tr>\n",
       "      <th>10X_P4_2_AAACCTGCAAGACACG</th>\n",
       "      <td>913</td>\n",
       "      <td>1748</td>\n",
       "      <td>10X</td>\n",
       "      <td>Liver</td>\n",
       "    </tr>\n",
       "    <tr>\n",
       "      <th>10X_P4_2_AAACCTGCATGCCTTC</th>\n",
       "      <td>2234</td>\n",
       "      <td>8838</td>\n",
       "      <td>10X</td>\n",
       "      <td>Liver</td>\n",
       "    </tr>\n",
       "    <tr>\n",
       "      <th>10X_P4_2_AAACCTGGTATCTGCA</th>\n",
       "      <td>690</td>\n",
       "      <td>1648</td>\n",
       "      <td>10X</td>\n",
       "      <td>Liver</td>\n",
       "    </tr>\n",
       "    <tr>\n",
       "      <th>10X_P4_2_AAACGGGTCCGCATAA</th>\n",
       "      <td>705</td>\n",
       "      <td>1492</td>\n",
       "      <td>10X</td>\n",
       "      <td>Liver</td>\n",
       "    </tr>\n",
       "  </tbody>\n",
       "</table>\n",
       "</div>"
      ],
      "text/plain": [
       "                           nGene  nUMI orig.ident tissue\n",
       "10X_P4_2_AAACCTGAGCTACCTA   1854  8116        10X  Liver\n",
       "10X_P4_2_AAACCTGCAAGACACG    913  1748        10X  Liver\n",
       "10X_P4_2_AAACCTGCATGCCTTC   2234  8838        10X  Liver\n",
       "10X_P4_2_AAACCTGGTATCTGCA    690  1648        10X  Liver\n",
       "10X_P4_2_AAACGGGTCCGCATAA    705  1492        10X  Liver"
      ]
     },
     "execution_count": 21,
     "metadata": {},
     "output_type": "execute_result"
    }
   ],
   "source": [
    "\n",
    "globber = os.path.join(folder, '*_nreads_ngenes.csv')\n",
    "\n",
    "dfs = []\n",
    "\n",
    "for filename in glob.iglob(globber):\n",
    "    df = pd.read_csv(filename, index_col=0)\n",
    "    df['tissue'] = os.path.basename(filename).split('_nreads_ngenes.csv')[0]\n",
    "    dfs.append(df)\n",
    "nreads_ngenes = pd.concat(dfs)\n",
    "print(nreads_ngenes.shape)\n",
    "print('number of tissues: ', len(nreads_ngenes.groupby('tissue')))\n",
    "nreads_ngenes.head()"
   ]
  },
  {
   "cell_type": "code",
   "execution_count": 22,
   "metadata": {},
   "outputs": [],
   "source": [
    "nreads_ngenes['log10_nUMI'] = np.log10(nreads_ngenes['nUMI'])"
   ]
  },
  {
   "cell_type": "code",
   "execution_count": 23,
   "metadata": {},
   "outputs": [
    {
     "data": {
      "text/plain": [
       "{'Aorta': '#1f77b4',\n",
       " 'Bladder': '#aec7e8',\n",
       " 'Brain_Myeloid': '#ff7f0e',\n",
       " 'Brain_Non-Myeloid': '#ffbb78',\n",
       " 'Diaphragm': '#98df8a',\n",
       " 'Fat': '#d62728',\n",
       " 'Heart': '#ff9896',\n",
       " 'Heart_and_Aorta': '#ff9896',\n",
       " 'Kidney': '#9467bd',\n",
       " 'Large_Intestine': '#2ca02c',\n",
       " 'Limb_Muscle': '#f7b6d2',\n",
       " 'Liver': '#c5b0d5',\n",
       " 'Lung': '#8c564b',\n",
       " 'Mammary_Gland': '#c49c94',\n",
       " 'Marrow': '#e377c2',\n",
       " 'Pancreas': '#7f7f7f',\n",
       " 'Skin': '#c7c7c7',\n",
       " 'Spleen': '#bcbd22',\n",
       " 'Thymus': '#dbdb8d',\n",
       " 'Tongue': '#17becf',\n",
       " 'Trachea': '#9edae5'}"
      ]
     },
     "execution_count": 23,
     "metadata": {},
     "output_type": "execute_result"
    }
   ],
   "source": [
    "colors = pd.read_csv(os.path.join(palette_folder, 'tissue_colors.csv'), index_col=0, squeeze=True)\n",
    "\n",
    "# Convert colors to dict to force mapping of tissue name to color\n",
    "colors = colors.to_dict()\n",
    "colors"
   ]
  },
  {
   "cell_type": "code",
   "execution_count": 24,
   "metadata": {},
   "outputs": [
    {
     "data": {
      "text/html": [
       "<div>\n",
       "<style scoped>\n",
       "    .dataframe tbody tr th:only-of-type {\n",
       "        vertical-align: middle;\n",
       "    }\n",
       "\n",
       "    .dataframe tbody tr th {\n",
       "        vertical-align: top;\n",
       "    }\n",
       "\n",
       "    .dataframe thead th {\n",
       "        text-align: right;\n",
       "    }\n",
       "</style>\n",
       "<table border=\"1\" class=\"dataframe\">\n",
       "  <thead>\n",
       "    <tr style=\"text-align: right;\">\n",
       "      <th></th>\n",
       "      <th>tissue</th>\n",
       "      <th>n_cells</th>\n",
       "    </tr>\n",
       "  </thead>\n",
       "  <tbody>\n",
       "    <tr>\n",
       "      <th>0</th>\n",
       "      <td>Bladder</td>\n",
       "      <td>2500</td>\n",
       "    </tr>\n",
       "    <tr>\n",
       "      <th>1</th>\n",
       "      <td>Heart_and_Aorta</td>\n",
       "      <td>624</td>\n",
       "    </tr>\n",
       "    <tr>\n",
       "      <th>2</th>\n",
       "      <td>Kidney</td>\n",
       "      <td>2781</td>\n",
       "    </tr>\n",
       "    <tr>\n",
       "      <th>3</th>\n",
       "      <td>Limb_Muscle</td>\n",
       "      <td>4536</td>\n",
       "    </tr>\n",
       "    <tr>\n",
       "      <th>4</th>\n",
       "      <td>Liver</td>\n",
       "      <td>1845</td>\n",
       "    </tr>\n",
       "    <tr>\n",
       "      <th>5</th>\n",
       "      <td>Lung</td>\n",
       "      <td>5449</td>\n",
       "    </tr>\n",
       "    <tr>\n",
       "      <th>6</th>\n",
       "      <td>Mammary_Gland</td>\n",
       "      <td>4481</td>\n",
       "    </tr>\n",
       "    <tr>\n",
       "      <th>7</th>\n",
       "      <td>Marrow</td>\n",
       "      <td>3652</td>\n",
       "    </tr>\n",
       "    <tr>\n",
       "      <th>8</th>\n",
       "      <td>Spleen</td>\n",
       "      <td>9552</td>\n",
       "    </tr>\n",
       "    <tr>\n",
       "      <th>9</th>\n",
       "      <td>Thymus</td>\n",
       "      <td>1429</td>\n",
       "    </tr>\n",
       "    <tr>\n",
       "      <th>10</th>\n",
       "      <td>Tongue</td>\n",
       "      <td>7538</td>\n",
       "    </tr>\n",
       "    <tr>\n",
       "      <th>11</th>\n",
       "      <td>Trachea</td>\n",
       "      <td>11269</td>\n",
       "    </tr>\n",
       "  </tbody>\n",
       "</table>\n",
       "</div>"
      ],
      "text/plain": [
       "             tissue  n_cells\n",
       "0           Bladder     2500\n",
       "1   Heart_and_Aorta      624\n",
       "2            Kidney     2781\n",
       "3       Limb_Muscle     4536\n",
       "4             Liver     1845\n",
       "5              Lung     5449\n",
       "6     Mammary_Gland     4481\n",
       "7            Marrow     3652\n",
       "8            Spleen     9552\n",
       "9            Thymus     1429\n",
       "10           Tongue     7538\n",
       "11          Trachea    11269"
      ]
     },
     "execution_count": 24,
     "metadata": {},
     "output_type": "execute_result"
    }
   ],
   "source": [
    "n_cells_per_tissue = nreads_ngenes.groupby('tissue').size().reset_index()\n",
    "n_cells_per_tissue = n_cells_per_tissue.rename(columns={0: 'n_cells'})\n",
    "n_cells_per_tissue"
   ]
  },
  {
   "cell_type": "code",
   "execution_count": 25,
   "metadata": {},
   "outputs": [
    {
     "data": {
      "text/plain": [
       "['Bladder',\n",
       " 'Heart_and_Aorta',\n",
       " 'Kidney',\n",
       " 'Limb_Muscle',\n",
       " 'Liver',\n",
       " 'Lung',\n",
       " 'Mammary_Gland',\n",
       " 'Marrow',\n",
       " 'Spleen',\n",
       " 'Thymus',\n",
       " 'Tongue',\n",
       " 'Trachea']"
      ]
     },
     "execution_count": 25,
     "metadata": {},
     "output_type": "execute_result"
    }
   ],
   "source": [
    "tissues = sorted(cell_annotations['tissue'].unique())\n",
    "tissues"
   ]
  },
  {
   "cell_type": "code",
   "execution_count": 27,
   "metadata": {
    "scrolled": true
   },
   "outputs": [
    {
     "data": {
      "image/png": "[encoded data removed]",
      "text/plain": [
       "<Figure size 432x288 with 1 Axes>"
      ]
     },
     "metadata": {},
     "output_type": "display_data"
    }
   ],
   "source": [
    "fig, ax = plt.subplots()\n",
    "sns.barplot(x='n_cells', y='tissue', data=n_cells_per_tissue, palette=colors, order=tissues)\n",
    "ax.set(xlabel='Number of cells')\n",
    "ax.set(ylabel='Organ')\n",
    "fig.tight_layout()\n",
    "fig.savefig('figure1c_barplot_n_cells_per_tissue.pdf')"
   ]
  },
  {
   "cell_type": "code",
   "execution_count": null,
   "metadata": {},
   "outputs": [],
   "source": []
  }
 ],
 "metadata": {
  "kernelspec": {
   "display_name": "Python 3.6 (tabula-muris-env)",
   "language": "python",
   "name": "tabula-muris-env"
  },
  "language_info": {
   "codemirror_mode": {
    "name": "ipython",
    "version": 3
   },
   "file_extension": ".py",
   "mimetype": "text/x-python",
   "name": "python",
   "nbconvert_exporter": "python",
   "pygments_lexer": "ipython3",
   "version": "3.5.5"
  }
 },
 "nbformat": 4,
 "nbformat_minor": 2
}
